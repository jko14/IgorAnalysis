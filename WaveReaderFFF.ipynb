{
 "cells": [
  {
   "cell_type": "code",
   "execution_count": 36,
   "metadata": {},
   "outputs": [],
   "source": [
    "from igor import binarywave as bw\n",
    "import numpy as np\n",
    "import matplotlib.pyplot as plt\n",
    "import os\n",
    "%matplotlib inline"
   ]
  },
  {
   "cell_type": "code",
   "execution_count": 59,
   "metadata": {},
   "outputs": [],
   "source": [
    "#Enter number of wave to be analyzed:\n",
    "waveNumber = 6"
   ]
  },
  {
   "cell_type": "code",
   "execution_count": 60,
   "metadata": {
    "collapsed": true
   },
   "outputs": [],
   "source": [
    "voltagePath = '/Users/jessicakohn/Documents/IgorAnalysis/test_data/ch0_' + str(waveNumber) + '.ibw'\n",
    "pdPath = '/Users/jessicakohn/Documents/IgorAnalysis/test_data/ch1_' + str(waveNumber) + '.ibw'\n",
    "voltageWaveRaw = bw.load(voltagePath)\n",
    "pdWaveRaw = bw.load(pdPath)\n",
    "voltageWave = voltageWaveRaw['wave']['wData']\n",
    "pdWave = pdWaveRaw['wave']['wData']"
   ]
  },
  {
   "cell_type": "code",
   "execution_count": 56,
   "metadata": {},
   "outputs": [],
   "source": [
    "#Detect threshold\n",
    "threshold = (np.max(pdWave[len(pdWave)/2:]))*0.50\n",
    "maxStim = np.max(pdWave[len(pdWave)/2:]) #Max value during stimulus presentation\n",
    "maxInit = np.max(pdWave) #Maximum value of the PD input in general\n",
    "#thresholdInit = maxInit*0.60\n",
    "stimulusWave = [x for x in pdWave if x <= maxStim] #Removes the initial peak that"
   ]
  },
  {
   "cell_type": "code",
   "execution_count": 57,
   "metadata": {},
   "outputs": [
    {
     "data": {
      "text/plain": [
       "[<matplotlib.lines.Line2D at 0x113f05d90>]"
      ]
     },
     "execution_count": 57,
     "metadata": {},
     "output_type": "execute_result"
    },
    {
     "data": {
      "image/png": "[encoded data removed]",
      "text/plain": [
       "<matplotlib.figure.Figure at 0x111583e50>"
      ]
     },
     "metadata": {},
     "output_type": "display_data"
    }
   ],
   "source": [
    "plt.plot(stimulusWave)\n",
    "\n"
   ]
  },
  {
   "cell_type": "code",
   "execution_count": null,
   "metadata": {
    "collapsed": true
   },
   "outputs": [],
   "source": []
  }
 ],
 "metadata": {
  "kernelspec": {
   "display_name": "Python 2",
   "language": "python",
   "name": "python2"
  },
  "language_info": {
   "codemirror_mode": {
    "name": "ipython",
    "version": 2
   },
   "file_extension": ".py",
   "mimetype": "text/x-python",
   "name": "python",
   "nbconvert_exporter": "python",
   "pygments_lexer": "ipython2",
   "version": "2.7.13"
  }
 },
 "nbformat": 4,
 "nbformat_minor": 2
}
